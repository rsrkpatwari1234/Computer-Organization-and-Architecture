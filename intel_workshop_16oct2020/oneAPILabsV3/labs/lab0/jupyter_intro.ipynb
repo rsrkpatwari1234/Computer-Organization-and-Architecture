{
 "cells": [
  {
   "cell_type": "markdown",
   "metadata": {},
   "source": [
    "# Lab: Get Familiar with the Jupyter Lab Environment"
   ]
  },
  {
   "cell_type": "markdown",
   "metadata": {},
   "source": [
    "##### Sections\n",
    "- [How Do I Use a Notebook?](#How-Do-I-Use-a-Notebook?)"
   ]
  },
  {
   "cell_type": "markdown",
   "metadata": {},
   "source": [
    "## Learning Objectives\n",
    "\n",
    "* Familiarization on the use of Jupyter notebooks for training throughout the course\n"
   ]
  },
  {
   "cell_type": "markdown",
   "metadata": {},
   "source": [
    "***\n",
    "## How Do I Use a Notebook?\n",
    "\n",
    "Jupyter notebooks are a great learning tool, and are very easy once you get used to it. Here are the very basics. Look online or ask your instructor or the chat channel (if implemented for your class) for more help if needed. You will also be using more features of the Jupyter Lab environment as the lab progresses. Each new feature will be introduced within the notebook before you are asked to use it.\n",
    "\n",
    "When you see a section of code, it will show up in a light gray box, like the screenshot shows below.\n",
    "\n",
    "<img src=\"Assets/gray_code_box.png\">\n",
    "\n",
    "When you click once within the box, a blue bar will show up beside it, indicating that it is the active section of the notebook, as shown below:\n",
    "\n",
    "<img src=\"Assets/active_code_box.png\">\n",
    "\n",
    "When a section is active, you can execute it. To execute it, you click inside it, make sure the blue bar is showing beside it, and then click the ▶ at the top of the notebook to run that code. The screenshot below has a box drawn around the ▶ so you will know where to find it.\n",
    "\n",
    "<img src=\"Assets/play_button.png\">\n",
    "\n",
    "This notebook has been set up to compile and execute code in two steps:\n",
    "* In the first section of code, you will see a program with %%writefile {a filename} as the top line. In this first step, we write the code you see (and sometimes edit) to a file.\n",
    "* In the next section of code, you will see commands meant to run on the DevCloud host. These begin with a ! and are Linux commands. These commands compile the code you have written.\n",
    "\n",
    "__Now, let's practice!__\n",
    "The code box below writes a simple hello world example program. Click on it now to make it active (you'll see a blue bar beside it), and then click ▶ to make it run. You will see dialog indicating the file has been written after you've made it run."
   ]
  },
  {
   "cell_type": "code",
   "execution_count": null,
   "metadata": {},
   "outputs": [],
   "source": [
    "%%writefile lab/hello_world_example.cpp\n",
    "#include <CL/sycl.hpp>\n",
    "int main() {\n",
    "    std::cout << \"Hello world! \\n\" << std::endl;\n",
    "}"
   ]
  },
  {
   "cell_type": "markdown",
   "metadata": {},
   "source": [
    "__Did you see the \"Writing lab/hello_world_example.cpp\" dialog appear?__ Now, let's compile and execute the simple hello world program you just wrote to a file. Click on the code box below and then click ▶. Remember, the code commands that start with ! are calling the DevCloud host (a Linux host) to execute something. Here, we are telling it to compile the code using the dpcpp compiler, and then to run the resulting executable file."
   ]
  },
  {
   "cell_type": "code",
   "execution_count": null,
   "metadata": {},
   "outputs": [],
   "source": [
    "! dpcpp lab/hello_world_example.cpp -o bin/hello_world\n",
    "! bin/hello_world"
   ]
  },
  {
   "cell_type": "markdown",
   "metadata": {},
   "source": [
    "__Do you see the \"Hello world!\" output?__ Great! Now, experiment with adding syntax errors if you'd like. Don't forget to click ▶ in the code box to write the file, and then ▶ to compile and run it. You will see the compiler complain!\n",
    "\n",
    "If the code is taking a while to run, you will see an asterisk within the brackets beside the gray code box, like is shown below.\n",
    "\n",
    "<img src=\"Assets/asterisk_running_code.png\">\n",
    "\n",
    "__When the asterisk, turns to a number, the code is finished running.__\n",
    "\n",
    "Unless you are told otherwise within the notebook, assume all code should take no longer than a minute to run. If you are seeing longer times, follow the steps in the FAQ below for the question __What if my code is taking too long to run?__\n",
    "\n",
    "__Now, you're ready to get started working the lab! Remember, more features of Jupyter Lab will be introduced as needed during the labs. They will always be explained before use.__"
   ]
  },
  {
   "cell_type": "markdown",
   "metadata": {},
   "source": [
    "***\n",
    "## A Quick FAQ of Common Jupyter Issues:\n",
    "\n",
    "__What if I have overwritten the code in my notebook, and would like to start from scratch?__\n",
    "\n",
    "The original Jupyter notebooks for each lab have been placed in the labs/solutions directory.\n",
    "\n",
    "__What if I don't feel like coding today and would just like to paste in the solution?__\n",
    "\n",
    "The completed code for each lab is available in the labs/solutions directory. You can open the file and copy and paste it into the code section. Remember to keep the line that begins with %%writefile at the top of the code section when you paste code in.\n",
    "\n",
    "__What if my code is taking too long to run?__ or __What if I get a popup saying my server is not running?__\n",
    "\n",
    "If the Jupyter cells are not responsive or if they error out when you compile the code samples, please restart the Jupyter Kernel. Select the following menu item within the Jupyter Lab window: \"Kernel->Restart Kernel and Clear All Outputs,\" and compile the code samples again.\n",
    "\n",
    "__What if a part of the notebook that is supposed to be text looks funny like the screenshot below?__\n",
    "\n",
    "<img src=\"Assets/messed_up_text_section.png\">\n",
    "\n",
    "If a text section looks like this, simply click on it and make it the active section (it will have a blue vertical bar beside it), and click ▶ (like you were running a code section). It will then go back to looking like a regular text section.\n",
    "\n",
    "__What if I get a popup saying my server is not running, like the one shown below?__\n",
    "\n",
    "<img src=\"Assets/server_not_running.png\">\n",
    "\n",
    "If you get this pop-up, select Restart. Be aware you may need to re-open the Jupyter Notebook and work some steps. (Or, you might be able to go back to the browser tab you were using when you got this pop-up and resume.)"
   ]
  }
 ],
 "metadata": {
  "kernelspec": {
   "display_name": "Python 3.7 (Intel® oneAPI)",
   "language": "python",
   "name": "c009-intel_distribution_of_python_3_oneapi-beta05-python"
  },
  "language_info": {
   "codemirror_mode": {
    "name": "ipython",
    "version": 3
   },
   "file_extension": ".py",
   "mimetype": "text/x-python",
   "name": "python",
   "nbconvert_exporter": "python",
   "pygments_lexer": "ipython3",
   "version": "3.7.7"
  },
  "toc": {
   "base_numbering": 1,
   "nav_menu": {},
   "number_sections": true,
   "sideBar": true,
   "skip_h1_title": false,
   "title_cell": "Table of Contents",
   "title_sidebar": "Contents",
   "toc_cell": false,
   "toc_position": {
    "height": "525.6px",
    "left": "28px",
    "top": "137.8px",
    "width": "301.109px"
   },
   "toc_section_display": true,
   "toc_window_display": true
  }
 },
 "nbformat": 4,
 "nbformat_minor": 4
}
